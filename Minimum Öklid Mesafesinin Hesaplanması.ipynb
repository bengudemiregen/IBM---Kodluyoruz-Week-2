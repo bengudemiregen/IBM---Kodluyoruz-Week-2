{
 "cells": [
  {
   "cell_type": "code",
   "execution_count": 6,
   "id": "f33a3a91",
   "metadata": {},
   "outputs": [
    {
     "name": "stdout",
     "output_type": "stream",
     "text": [
      "Minimum mesafe: 7.0710678118654755\n",
      "Mesafeler:  [7.0710678118654755, 14.142135623730951, 21.213203435596427, 7.0710678118654755, 14.142135623730951, 7.0710678118654755]\n"
     ]
    }
   ],
   "source": [
    "import math\n",
    "\n",
    "points = [(5, 10), (10, 15), (15, 20), (20, 25)]\n",
    "\n",
    "def euclideanDistance(Nokta1, Nokta2):\n",
    "    x1, y1 = Nokta1\n",
    "    x2, y2 = Nokta2\n",
    "    return math.sqrt((x2 - x1)**2 + (y2 - y1)**2)\n",
    "\n",
    "mesafe = [] #boş olmalı\n",
    "\n",
    "for i in range(len(points)):\n",
    "    \n",
    "    for j in range(i+1, len(points)):\n",
    "        dist = euclideanDistance(points[i], points[j])\n",
    "        mesafe.append(dist)\n",
    "\n",
    "# Minimum mesafenin bulunması\n",
    "MinUzaklik = min(mesafe)\n",
    "print(\"Minimum mesafe:\", MinUzaklik)\n",
    "print(\"Mesafeler: \", mesafe)"
   ]
  }
 ],
 "metadata": {
  "kernelspec": {
   "display_name": "Python 3 (ipykernel)",
   "language": "python",
   "name": "python3"
  },
  "language_info": {
   "codemirror_mode": {
    "name": "ipython",
    "version": 3
   },
   "file_extension": ".py",
   "mimetype": "text/x-python",
   "name": "python",
   "nbconvert_exporter": "python",
   "pygments_lexer": "ipython3",
   "version": "3.11.5"
  }
 },
 "nbformat": 4,
 "nbformat_minor": 5
}
